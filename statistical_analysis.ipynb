{
 "cells": [
  {
   "cell_type": "code",
   "execution_count": 2,
   "metadata": {},
   "outputs": [],
   "source": [
    "import statistics\n",
    "import math\n",
    "import numpy as np\n",
    "import pandas as pd\n",
    "import matplotlib.pyplot as plt\n",
    "import seaborn as sns\n",
    "import scipy\n",
    "from scipy import stats\n",
    "from IPython.display import Image\n",
    "import warnings\n",
    "warnings.filterwarnings('ignore')"
   ]
  },
  {
   "cell_type": "markdown",
   "metadata": {},
   "source": [
    "### Statistical Analysis \n",
    "I. Descriptive Statistics\n",
    "1. Measure of central tendency \n",
    "    - 1.1 Mean\n",
    "    - 1.2 Median\n",
    "    - 1.3 Mode\n",
    "2. Measure of variability \n",
    "    - 2.1 Min, max and range\n",
    "    - 2.2 Percentiles\n",
    "    - 2.3 Variance\n",
    "    - 2.4 Standard deviation\n",
    "    - 2.5 Distribution\n",
    "    - 2.6 Skewness\n",
    "    - 2.7 Kurtosis"
   ]
  },
  {
   "cell_type": "code",
   "execution_count": 52,
   "metadata": {},
   "outputs": [
    {
     "name": "stdout",
     "output_type": "stream",
     "text": [
      "speed array:\n",
      " int64 [ 99  86  87  88 111  86 103  87  94  78  77  85  86]\n",
      "age array :\n",
      " int64 [ 5 31 43 48 50 41  7 11 15 39 80 82 32  2  8  6 25 36 27 61 31] \n",
      "\n",
      "          Car       Model  Volume  Weight  CO2\n",
      "0      Toyoty        Aygo    1000     790   99\n",
      "1  Mitsubishi  Space Star    1200    1160   95\n",
      "2       Skoda      Citigo    1000     929   95\n",
      "3        Fiat         500     900     865   90\n",
      "4        Mini      Cooper    1500    1140  105\n",
      "5          VW         Up!    1000     929  105\n",
      "6       Skoda       Fabia    1400    1109   90\n",
      "7    Mercedes     A-Class    1500    1365   92\n",
      "8        Ford      Fiesta    1500    1112   98\n",
      "9        Audi          A1    1600    1150   99\n"
     ]
    }
   ],
   "source": [
    "#Data for descriptive statistics purposes\n",
    "#1. Numpy Array\n",
    "speed = np.array([99,86,87,88,111,86,103,87,94,78,77,85,86], dtype=int)\n",
    "age = np.array([5,31,43,48,50,41,7,11,15,39,80,82,32,2,8,6,25,36,27,61,31], dtype=int)\n",
    "\n",
    "print('speed array:\\n', speed.dtype, speed.view())\n",
    "print('age array :\\n', age.dtype, age.view(),'\\n', )\n",
    "\n",
    "#2. Pandas DataFrame\n",
    "df_cars = pd.read_csv(r'/home/achmadadyatma/Documents/learncode/my-data-analyst_project/statistical_analysis/cars.csv')\n",
    "\n",
    "print(df_cars.head(10))"
   ]
  },
  {
   "cell_type": "code",
   "execution_count": 4,
   "metadata": {},
   "outputs": [
    {
     "name": "stdout",
     "output_type": "stream",
     "text": [
      "mean_1_arr(speed): 89.76923076923077\n",
      "mean_2_arr(age): 32.38095238095238\n",
      "mean_3_df(cars):\n",
      " Volume    1611.111111\n",
      "Weight    1292.277778\n",
      "CO2        102.027778\n",
      "dtype: float64\n"
     ]
    }
   ],
   "source": [
    "# I. Descriptive statistics\n",
    "# 1.1 Measures of central tendency - mean\n",
    "# The mean is the average number, found by adding all data points and dividing by the number of data points\n",
    "mean_1_arr = np.mean(speed)\n",
    "mean_2_arr = np.mean(age)\n",
    "mean_3_df = df_cars[['Volume', 'Weight','CO2']].mean(axis=0)\n",
    "\n",
    "print('mean_1_arr(speed):', mean_1_arr)\n",
    "print('mean_2_arr(age):',mean_2_arr)\n",
    "print('mean_3_df(cars):\\n', mean_3_df)"
   ]
  },
  {
   "cell_type": "code",
   "execution_count": 5,
   "metadata": {},
   "outputs": [
    {
     "name": "stdout",
     "output_type": "stream",
     "text": [
      "median_1_arr(speed): 87.0\n",
      "median_2_arr(age): 31.0\n",
      "median_3_dff(cars):\n",
      " Volume    1600.0\n",
      "Weight    1329.0\n",
      "CO2         99.0\n",
      "dtype: float64\n"
     ]
    }
   ],
   "source": [
    "# I. Descriptive statistics\n",
    "# 1.2 Measures of central tendency - median\n",
    "# The median is the middle number in a sorted, ascending or descending list of numbers and can be more descriptive than the average (mean)\n",
    "median_1_arr = np.median(speed)\n",
    "median_2_arr = np.median(age)\n",
    "median_3_df = df_cars[['Volume', 'Weight','CO2']].median(axis=0)\n",
    "\n",
    "print('median_1_arr(speed):', median_1_arr)\n",
    "print('median_2_arr(age):', median_2_arr)\n",
    "print('median_3_dff(cars):\\n', median_3_df)"
   ]
  },
  {
   "cell_type": "code",
   "execution_count": 6,
   "metadata": {},
   "outputs": [
    {
     "name": "stdout",
     "output_type": "stream",
     "text": [
      "mode_1_arr(speed):\n",
      " ModeResult(mode=array([86]), count=array([3]))\n",
      "mode_2_arr(age):\n",
      " ModeResult(mode=array([31]), count=array([2]))\n",
      "mode_3_df(cars):\n",
      "    Volume  Weight  CO2\n",
      "0    1600    1365   99\n"
     ]
    }
   ],
   "source": [
    "# I. Descriptive statistics\n",
    "# 1.3 Measures of central tendency - mode\n",
    "# The mode is the value that is repeatedly occuring in a given dataset\n",
    "mode_1_arr = stats.mode(speed)\n",
    "mode_2_arr = stats.mode(age)\n",
    "mode_3_df = df_cars[['Volume', 'Weight', 'CO2']].mode(axis=0)\n",
    "\n",
    "print('mode_1_arr(speed):\\n', mode_1_arr)\n",
    "print('mode_2_arr(age):\\n', mode_2_arr)\n",
    "print('mode_3_df(cars):\\n', mode_3_df)"
   ]
  },
  {
   "cell_type": "code",
   "execution_count": 7,
   "metadata": {},
   "outputs": [
    {
     "name": "stdout",
     "output_type": "stream",
     "text": [
      "min_1_arr(speed) : 111\n",
      "max_1_arr(speed) : 77\n",
      "range_1_arr(speed) : 34\n",
      "min_2_arr(age) : 82\n",
      "max_2_arr(age) : 2\n",
      "range_2_arr(age) : 80\n",
      "min_3_df(cars) :\n",
      " Volume    900\n",
      "Weight    790\n",
      "CO2        90\n",
      "dtype: int64\n",
      "max_3_df(cars) :\n",
      " Volume    2500\n",
      "Weight    1746\n",
      "CO2        120\n",
      "dtype: int64\n",
      "range_3_df(cars) :\n",
      " Volume    1600\n",
      "Weight     956\n",
      "CO2         30\n",
      "dtype: int64\n"
     ]
    }
   ],
   "source": [
    "# I. Descriptive statistics\n",
    "# 2.1 Measures of variability - min, max and range\n",
    "# The min is simply the lowest observation, while the max is the highest observation\n",
    "# The range is the difference between the largest and smallest values (range = max() - min())\n",
    "min_1_arr = np.amax(speed)\n",
    "max_1_arr = np.amin(speed)\n",
    "range_1_arr = np.ptp(speed)\n",
    "\n",
    "print('min_1_arr(speed) :', min_1_arr)\n",
    "print('max_1_arr(speed) :', max_1_arr)\n",
    "print('range_1_arr(speed) :', range_1_arr)\n",
    "\n",
    "min_2_arr = np.amax(age)\n",
    "max_2_arr = np.amin(age)\n",
    "range_2_arr = np.ptp(age)\n",
    "\n",
    "print('min_2_arr(age) :', min_2_arr)\n",
    "print('max_2_arr(age) :', max_2_arr)\n",
    "print('range_2_arr(age) :', range_2_arr)\n",
    "\n",
    "min_3_df = df_cars[['Volume', 'Weight','CO2']].min(axis=0)\n",
    "max_3_df = df_cars[['Volume', 'Weight','CO2']].max(axis=0)\n",
    "range_3_df = df_cars[['Volume', 'Weight','CO2']].max()- df_cars[['Volume', 'Weight','CO2']].min()\n",
    "\n",
    "print('min_3_df(cars) :\\n', min_3_df)\n",
    "print('max_3_df(cars) :\\n', max_3_df)\n",
    "print('range_3_df(cars) :\\n', range_3_df)"
   ]
  },
  {
   "cell_type": "code",
   "execution_count": 8,
   "metadata": {},
   "outputs": [
    {
     "name": "stdout",
     "output_type": "stream",
     "text": [
      "perc_1_arr (speed) : [ 86.   87.   94.  102.2]\n",
      "perc_2_arr (age) : [11. 31. 43. 61.]\n",
      "perc_3_df (cars) :\n",
      "       Volume   Weight     CO2\n",
      "0.25  1475.0  1117.25   97.75\n",
      "0.50  1600.0  1329.00   99.00\n",
      "0.75  2000.0  1418.25  105.00\n",
      "0.90  2050.0  1594.50  114.00\n"
     ]
    }
   ],
   "source": [
    "# I. Descriptive statistics\n",
    "# 2.2 Measures of variability - percentiles\n",
    "# The percentiles is a measure used in statistics indicating the value below which a given percentage of observations in a group of observations fall. Example, the 20th percentile is the value (or score) below which 20% of the observations may be found\n",
    "perc_1_arr = np.percentile(speed, q=[25, 50, 75, 90])\n",
    "perc_2_arr =  np.percentile(age, q=[25, 50, 75, 90])\n",
    "perc_3_df = df_cars[['Volume', 'Weight','CO2']].quantile(axis=0, q=[0.25, 0.50, 0.75, 0.90])\n",
    "\n",
    "print('perc_1_arr (speed) :', perc_1_arr)\n",
    "print('perc_2_arr (age) :', perc_2_arr)\n",
    "print('perc_3_df (cars) :\\n', perc_3_df)"
   ]
  },
  {
   "cell_type": "code",
   "execution_count": 9,
   "metadata": {},
   "outputs": [
    {
     "name": "stdout",
     "output_type": "stream",
     "text": [
      "var_1_arr (speed) : 92\n",
      "var_2_arr (age) : 540\n",
      "var_3_df (cars) :\n",
      " Volume    151301.587302\n",
      "Weight     58623.977778\n",
      "CO2           55.570635\n",
      "dtype: float64\n"
     ]
    }
   ],
   "source": [
    "# I. Descriptive statistics\n",
    "# 2.3 Measures of variability - variance\n",
    "# The variance is the average of the squared differences from the mean value\n",
    "# A large variance indicates that the data is spread out, meanwhile a small variance indicates that the data is clustered\n",
    "var_1_arr = statistics.variance(speed)\n",
    "var_2_arr = statistics.variance(age)\n",
    "var_3_df = df_cars[['Volume', 'Weight','CO2']].var(axis=0)\n",
    "\n",
    "print('var_1_arr (speed) :', var_1_arr)\n",
    "print('var_2_arr (age) :', var_2_arr)\n",
    "print('var_3_df (cars) :\\n', var_3_df)"
   ]
  },
  {
   "cell_type": "code",
   "execution_count": 10,
   "metadata": {},
   "outputs": [
    {
     "name": "stdout",
     "output_type": "stream",
     "text": [
      "std_1_arr (speed) : 9.258292301032677\n",
      "std_2_arr (age) : 22.678868264524073\n",
      "std_3_df (cars) :\n",
      " Volume    388.975047\n",
      "Weight    242.123889\n",
      "CO2         7.454571\n",
      "dtype: float64\n"
     ]
    }
   ],
   "source": [
    "# I. Descriptive statistics\n",
    "# 2.4 Measures of variability - standard deviation\n",
    "# The standard deviation is a number that describes how spread out the values are\n",
    "# A low standard deviation means that most of the numbers are close to the mean (average) value, meanwhile a high standard deviation means that the values\n",
    "std_1_arr = np.std(speed)\n",
    "std_2_arr = np.std(age)\n",
    "std_3_df =  df_cars[['Volume', 'Weight','CO2']].std(axis=0)\n",
    "\n",
    "print('std_1_arr (speed) :', std_1_arr)\n",
    "print('std_2_arr (age) :', std_2_arr)\n",
    "print('std_3_df (cars) :\\n', std_3_df)"
   ]
  },
  {
   "cell_type": "code",
   "execution_count": 11,
   "metadata": {},
   "outputs": [],
   "source": [
    "# I. Descriptive statistics\n",
    "# 2.5 Measures of variability - distribution\n",
    "# The distribution of a statistical dataset is the spread out of the data which shows all possible values or intervals of the data and how they occur\n",
    "# Histogram can be used for determine the distribution of dataset. A histogram is a chart that plots the distribution of a numeric variable's values as a series of bars"
   ]
  },
  {
   "cell_type": "code",
   "execution_count": 12,
   "metadata": {},
   "outputs": [
    {
     "name": "stdout",
     "output_type": "stream",
     "text": [
      "Data Distribution Interpretation\n"
     ]
    },
    {
     "data": {
      "text/html": [
       "<img src=\"/home/achmadadyatma/Documents/learncode/my-data-analyst_project/statistical_analysis/histogram-interpretation\"/>"
      ],
      "text/plain": [
       "<IPython.core.display.Image object>"
      ]
     },
     "execution_count": 12,
     "metadata": {},
     "output_type": "execute_result"
    }
   ],
   "source": [
    "print('Data Distribution Interpretation')\n",
    "Image(url=r'/home/achmadadyatma/Documents/learncode/my-data-analyst_project/statistical_analysis/histogram-interpretation')"
   ]
  },
  {
   "cell_type": "code",
   "execution_count": 13,
   "metadata": {},
   "outputs": [
    {
     "data": {
      "image/png": "[encoded data removed]",
      "text/plain": [
       "<Figure size 640x480 with 1 Axes>"
      ]
     },
     "metadata": {},
     "output_type": "display_data"
    }
   ],
   "source": [
    "dis_1_arr = speed\n",
    "plt.hist(dis_1_arr, bins=7)\n",
    "plt.show()"
   ]
  },
  {
   "cell_type": "code",
   "execution_count": 14,
   "metadata": {},
   "outputs": [
    {
     "data": {
      "image/png": "[encoded data removed]",
      "text/plain": [
       "<Figure size 640x480 with 1 Axes>"
      ]
     },
     "metadata": {},
     "output_type": "display_data"
    }
   ],
   "source": [
    "dis_2_arr = age\n",
    "plt.hist(dis_2_arr, bins=7)\n",
    "plt.show()"
   ]
  },
  {
   "cell_type": "code",
   "execution_count": 15,
   "metadata": {},
   "outputs": [
    {
     "data": {
      "text/plain": [
       "array([[<AxesSubplot:title={'center':'Volume'}>,\n",
       "        <AxesSubplot:title={'center':'Weight'}>],\n",
       "       [<AxesSubplot:title={'center':'CO2'}>, <AxesSubplot:>]],\n",
       "      dtype=object)"
      ]
     },
     "execution_count": 15,
     "metadata": {},
     "output_type": "execute_result"
    },
    {
     "data": {
      "image/png": "[encoded data removed]",
      "text/plain": [
       "<Figure size 640x480 with 4 Axes>"
      ]
     },
     "metadata": {},
     "output_type": "display_data"
    }
   ],
   "source": [
    "df_cars.hist(bins='auto')"
   ]
  },
  {
   "cell_type": "code",
   "execution_count": 16,
   "metadata": {},
   "outputs": [],
   "source": [
    "# I. Descriptive statistics\n",
    "# 2.6 Measures of variability - skewness\n",
    "# The skewness is a measure of the asymmetry of a distribution. A distribution can have right (or positive), left (or negative), or zero skewness\n",
    "# If the skewness is between -0.5 and 0.5, the data are fairly symmetrcal. If the skewness is between -1 and -0.5 or between 0.5 and 1, the data are moderately skewed. If the skewness is less than -1 or greater than 1, the data are highly skewed"
   ]
  },
  {
   "cell_type": "code",
   "execution_count": 17,
   "metadata": {},
   "outputs": [
    {
     "name": "stdout",
     "output_type": "stream",
     "text": [
      "Skewness Interpretation\n"
     ]
    },
    {
     "data": {
      "text/html": [
       "<img src=\"/home/achmadadyatma/Documents/learncode/my-data-analyst_project/statistical_analysis/skewness-interpretation.jpeg\"/>"
      ],
      "text/plain": [
       "<IPython.core.display.Image object>"
      ]
     },
     "execution_count": 17,
     "metadata": {},
     "output_type": "execute_result"
    }
   ],
   "source": [
    "print('Skewness Interpretation')\n",
    "Image(url=r'/home/achmadadyatma/Documents/learncode/my-data-analyst_project/statistical_analysis/skewness-interpretation.jpeg')"
   ]
  },
  {
   "cell_type": "code",
   "execution_count": 18,
   "metadata": {},
   "outputs": [
    {
     "name": "stdout",
     "output_type": "stream",
     "text": [
      "skew_1_arr (speed) : 0.845105471183182\n",
      "skew_2_arr (age) : 0.619215361674323\n",
      "skew_3_df (cars) :\n",
      " Volume    0.016157\n",
      "Weight   -0.116137\n",
      "CO2       0.656440\n",
      "dtype: float64\n",
      "\n",
      "Interpretation :\n",
      "skew_1_arr(speed) : positive moderately skewed\n",
      "skew_2_arr(age) : positive moderately skewed\n",
      "skew_3_arr(cars) \n",
      "volume : positive symmetrical \n",
      "weight : negative symmetrical \n",
      "CO2 : positive moderately skewed\n"
     ]
    }
   ],
   "source": [
    "skew_1_arr = scipy.stats.skew(speed)\n",
    "skew_2_arr = scipy.stats.skew(age)\n",
    "skew_3_df =  df_cars[['Volume', 'Weight','CO2']].skew(axis=0)\n",
    "\n",
    "print('skew_1_arr (speed) :', skew_1_arr)\n",
    "print('skew_2_arr (age) :', skew_2_arr)\n",
    "print('skew_3_df (cars) :\\n', skew_3_df)\n",
    "\n",
    "print('\\nInterpretation :')\n",
    "\n",
    "print('skew_1_arr(speed) : positive moderately skewed')\n",
    "print('skew_2_arr(age) : positive moderately skewed')\n",
    "print('skew_3_arr(cars) \\nvolume : positive symmetrical \\nweight : negative symmetrical \\nCO2 : positive moderately skewed')"
   ]
  },
  {
   "cell_type": "code",
   "execution_count": 19,
   "metadata": {},
   "outputs": [],
   "source": [
    "# I. Descriptive statistics\n",
    "# 2.7 Measures of variability - kurtosis\n",
    "# The kurtosis is a measure of the tailedness of a distribution\n",
    "# Tailedness is how often outliers occur\n",
    "# If the value is greater than (>0), the distribution is lepto-kurtic. If the value is less than (<0) the distribution is platy-kurtic. If the value near 0 (=0) the distribution is meso-kurtic"
   ]
  },
  {
   "cell_type": "code",
   "execution_count": 20,
   "metadata": {},
   "outputs": [
    {
     "data": {
      "text/html": [
       "<img src=\"/home/achmadadyatma/Documents/learncode/my-data-analyst_project/statistical_analysis/kurtosis-interpretation.png\"/>"
      ],
      "text/plain": [
       "<IPython.core.display.Image object>"
      ]
     },
     "execution_count": 20,
     "metadata": {},
     "output_type": "execute_result"
    }
   ],
   "source": [
    "Image(url=r'/home/achmadadyatma/Documents/learncode/my-data-analyst_project/statistical_analysis/kurtosis-interpretation.png')"
   ]
  },
  {
   "cell_type": "code",
   "execution_count": 21,
   "metadata": {},
   "outputs": [
    {
     "name": "stdout",
     "output_type": "stream",
     "text": [
      "kur_1_arr (speed) : 0.01965093187518896\n",
      "kur_2_arr (age) : -0.2960101885516577\n",
      "kur_3_df (cars) :\n",
      " Volume   -0.399033\n",
      "Weight   -0.464196\n",
      "CO2      -0.005159\n",
      "dtype: float64\n",
      "\n",
      "Interpretation :\n",
      "kur_1_arr(speed) : Meso-kurtic\n",
      "kur_2_arr(age) : Platy-kurtic\n",
      "kur_3_arr(cars) \n",
      "volume : Platy-kurtic \n",
      "weight : Platy-kurtic \n",
      "CO2 : Meso-kurtic\n"
     ]
    }
   ],
   "source": [
    "kur_1_arr = scipy.stats.kurtosis(speed)\n",
    "kur_2_arr = scipy.stats.kurtosis(age)\n",
    "kur_3_df =  df_cars[['Volume', 'Weight','CO2']].kurtosis(axis=0)\n",
    "\n",
    "print('kur_1_arr (speed) :', kur_1_arr)\n",
    "print('kur_2_arr (age) :', kur_2_arr)\n",
    "print('kur_3_df (cars) :\\n', kur_3_df)\n",
    "\n",
    "print('\\nInterpretation :')\n",
    "\n",
    "print('kur_1_arr(speed) : Meso-kurtic')\n",
    "print('kur_2_arr(age) : Platy-kurtic')\n",
    "print('kur_3_arr(cars) \\nvolume : Platy-kurtic \\nweight : Platy-kurtic \\nCO2 : Meso-kurtic')"
   ]
  },
  {
   "cell_type": "code",
   "execution_count": 22,
   "metadata": {},
   "outputs": [
    {
     "name": "stdout",
     "output_type": "stream",
     "text": [
      "summary_1_arr (speed) :\n",
      " DescribeResult(nobs=13, minmax=(77, 111), mean=89.76923076923077, variance=92.85897435897435, skewness=0.845105471183182, kurtosis=0.01965093187518896)\n",
      "\n",
      "summary_2_arr (age) :\n",
      " DescribeResult(nobs=21, minmax=(2, 82), mean=32.38095238095238, variance=540.047619047619, skewness=0.619215361674323, kurtosis=-0.2960101885516577)\n"
     ]
    }
   ],
   "source": [
    "# summary to generate descriptive statistics\n",
    "'''\n",
    "In NumPy array, describe() method will generate the value of :\n",
    "1. Number of observation(nobs)\n",
    "2. Min max\n",
    "3. Mean\n",
    "4. Variance\n",
    "5. Skewness\n",
    "6. Kurtosis\n",
    "not included :\n",
    "1. Median\n",
    "2. Mode\n",
    "3. Range\n",
    "4. Percentiles\n",
    "5. Standard deviation\n",
    "6. Distribution\n",
    "'''\n",
    "summary_1_arr = stats.describe(speed)\n",
    "summary_2_arr = stats.describe(age)\n",
    "\n",
    "print('summary_1_arr (speed) :\\n', summary_1_arr)\n",
    "print('\\nsummary_2_arr (age) :\\n', summary_2_arr)"
   ]
  },
  {
   "cell_type": "code",
   "execution_count": 23,
   "metadata": {},
   "outputs": [
    {
     "name": "stdout",
     "output_type": "stream",
     "text": [
      "summary_3_df (cars) :\n",
      "             Volume       Weight         CO2\n",
      "count    36.000000    36.000000   36.000000\n",
      "mean   1611.111111  1292.277778  102.027778\n",
      "std     388.975047   242.123889    7.454571\n",
      "min     900.000000   790.000000   90.000000\n",
      "25%    1475.000000  1117.250000   97.750000\n",
      "50%    1600.000000  1329.000000   99.000000\n",
      "75%    2000.000000  1418.250000  105.000000\n",
      "max    2500.000000  1746.000000  120.000000\n"
     ]
    }
   ],
   "source": [
    "'''\n",
    "In Pandas DataFrame, describe() method will generate the value of :\n",
    "1. Count\n",
    "2. Mean\n",
    "3. Standard deviation\n",
    "4. Min\n",
    "5. Max\n",
    "6. Percentiles (25%, 50%, 75%)\n",
    "not included :\n",
    "1. Median\n",
    "2. Mode\n",
    "3. Range\n",
    "4. Variance\n",
    "5. Distribution\n",
    "6. Skewness\n",
    "7. Kurtosis\n",
    "'''\n",
    "summary_3_df =  df_cars[['Volume', 'Weight', 'CO2']].describe()\n",
    "\n",
    "print('summary_3_df (cars) :\\n', summary_3_df)"
   ]
  },
  {
   "cell_type": "markdown",
   "metadata": {},
   "source": [
    "II. Inferential Statistics\n",
    "1. Correlation between pairs of data\n",
    "    - 1.1 Covariance matrix\n",
    "    - 1.2 Correlation Matrix\n",
    "    - 1.3 Heatmap\n",
    "    - 1.4 Correlation coefficient (CC)\n",
    "        - 1.4.1 Perfect linear relationship (CC = 1)\n",
    "        - 1.4.2 Perfect negative linear relationship (CC = -1)\n",
    "        - 1.4.2 No linear relationship (CC = 0)\n",
    "2. Perform simple linear regression analysis\n",
    "    - 2.1 Data preparation (extract and rename data from existing Pandas DataFrame)\n",
    "    - 2.2 Plot the given data points\n",
    "    - 2.3 Add needed columns (x-x̄), (y-ȳ), (x-x̄)*(y-ȳ), (x-x̄)^2, (y-ȳ)^2\n",
    "    - 2.4 Sum up (x-x̄)*(y-ȳ), (x-x̄)^2, (y-ȳ)^2 columns \n",
    "    - 2.5 Calculate Pearson's correlation coefficient (r)\n",
    "    - 2.6 Calculate standard deviation of X and Y variables\n",
    "    - 2.7 Calculate slope (b)\n",
    "    - 2.8 Calculate intercept (a)\n",
    "    - 2.9 Plot the given data points and fit the regression line\n",
    "    - 2.10 Predict value"
   ]
  },
  {
   "cell_type": "code",
   "execution_count": 50,
   "metadata": {},
   "outputs": [
    {
     "data": {
      "text/html": [
       "<div>\n",
       "<style scoped>\n",
       "    .dataframe tbody tr th:only-of-type {\n",
       "        vertical-align: middle;\n",
       "    }\n",
       "\n",
       "    .dataframe tbody tr th {\n",
       "        vertical-align: top;\n",
       "    }\n",
       "\n",
       "    .dataframe thead th {\n",
       "        text-align: right;\n",
       "    }\n",
       "</style>\n",
       "<table border=\"1\" class=\"dataframe\">\n",
       "  <thead>\n",
       "    <tr style=\"text-align: right;\">\n",
       "      <th></th>\n",
       "      <th>Duration</th>\n",
       "      <th>Average_Pulse</th>\n",
       "      <th>Max_Pulse</th>\n",
       "      <th>Calorie_Burnage</th>\n",
       "      <th>Hours_Work</th>\n",
       "      <th>Hours_Sleep</th>\n",
       "    </tr>\n",
       "  </thead>\n",
       "  <tbody>\n",
       "    <tr>\n",
       "      <th>0</th>\n",
       "      <td>60</td>\n",
       "      <td>110</td>\n",
       "      <td>130</td>\n",
       "      <td>409</td>\n",
       "      <td>0.0</td>\n",
       "      <td>8.0</td>\n",
       "    </tr>\n",
       "    <tr>\n",
       "      <th>1</th>\n",
       "      <td>60</td>\n",
       "      <td>117</td>\n",
       "      <td>145</td>\n",
       "      <td>479</td>\n",
       "      <td>0.0</td>\n",
       "      <td>8.0</td>\n",
       "    </tr>\n",
       "    <tr>\n",
       "      <th>2</th>\n",
       "      <td>60</td>\n",
       "      <td>103</td>\n",
       "      <td>135</td>\n",
       "      <td>340</td>\n",
       "      <td>8.0</td>\n",
       "      <td>7.5</td>\n",
       "    </tr>\n",
       "    <tr>\n",
       "      <th>3</th>\n",
       "      <td>45</td>\n",
       "      <td>109</td>\n",
       "      <td>175</td>\n",
       "      <td>282</td>\n",
       "      <td>8.0</td>\n",
       "      <td>8.0</td>\n",
       "    </tr>\n",
       "    <tr>\n",
       "      <th>4</th>\n",
       "      <td>45</td>\n",
       "      <td>117</td>\n",
       "      <td>148</td>\n",
       "      <td>406</td>\n",
       "      <td>0.0</td>\n",
       "      <td>6.5</td>\n",
       "    </tr>\n",
       "    <tr>\n",
       "      <th>...</th>\n",
       "      <td>...</td>\n",
       "      <td>...</td>\n",
       "      <td>...</td>\n",
       "      <td>...</td>\n",
       "      <td>...</td>\n",
       "      <td>...</td>\n",
       "    </tr>\n",
       "    <tr>\n",
       "      <th>158</th>\n",
       "      <td>60</td>\n",
       "      <td>105</td>\n",
       "      <td>140</td>\n",
       "      <td>290</td>\n",
       "      <td>7.0</td>\n",
       "      <td>8.0</td>\n",
       "    </tr>\n",
       "    <tr>\n",
       "      <th>159</th>\n",
       "      <td>60</td>\n",
       "      <td>110</td>\n",
       "      <td>145</td>\n",
       "      <td>300</td>\n",
       "      <td>7.0</td>\n",
       "      <td>8.0</td>\n",
       "    </tr>\n",
       "    <tr>\n",
       "      <th>160</th>\n",
       "      <td>60</td>\n",
       "      <td>115</td>\n",
       "      <td>145</td>\n",
       "      <td>310</td>\n",
       "      <td>8.0</td>\n",
       "      <td>8.0</td>\n",
       "    </tr>\n",
       "    <tr>\n",
       "      <th>161</th>\n",
       "      <td>75</td>\n",
       "      <td>120</td>\n",
       "      <td>150</td>\n",
       "      <td>320</td>\n",
       "      <td>0.0</td>\n",
       "      <td>8.0</td>\n",
       "    </tr>\n",
       "    <tr>\n",
       "      <th>162</th>\n",
       "      <td>75</td>\n",
       "      <td>125</td>\n",
       "      <td>150</td>\n",
       "      <td>330</td>\n",
       "      <td>8.0</td>\n",
       "      <td>8.0</td>\n",
       "    </tr>\n",
       "  </tbody>\n",
       "</table>\n",
       "<p>163 rows × 6 columns</p>\n",
       "</div>"
      ],
      "text/plain": [
       "     Duration  Average_Pulse  Max_Pulse  Calorie_Burnage  Hours_Work  \\\n",
       "0          60            110        130              409         0.0   \n",
       "1          60            117        145              479         0.0   \n",
       "2          60            103        135              340         8.0   \n",
       "3          45            109        175              282         8.0   \n",
       "4          45            117        148              406         0.0   \n",
       "..        ...            ...        ...              ...         ...   \n",
       "158        60            105        140              290         7.0   \n",
       "159        60            110        145              300         7.0   \n",
       "160        60            115        145              310         8.0   \n",
       "161        75            120        150              320         0.0   \n",
       "162        75            125        150              330         8.0   \n",
       "\n",
       "     Hours_Sleep  \n",
       "0            8.0  \n",
       "1            8.0  \n",
       "2            7.5  \n",
       "3            8.0  \n",
       "4            6.5  \n",
       "..           ...  \n",
       "158          8.0  \n",
       "159          8.0  \n",
       "160          8.0  \n",
       "161          8.0  \n",
       "162          8.0  \n",
       "\n",
       "[163 rows x 6 columns]"
      ]
     },
     "execution_count": 50,
     "metadata": {},
     "output_type": "execute_result"
    }
   ],
   "source": [
    "#Data for inferential statistics purposes\n",
    "#Pandas DataFrame\n",
    "df_health_1 = pd.read_csv(r'/home/achmadadyatma/Documents/learncode/my-data-analyst_project/statistical_analysis/health.csv')\n",
    "\n",
    "df_health_1.head(250)"
   ]
  },
  {
   "cell_type": "code",
   "execution_count": 25,
   "metadata": {},
   "outputs": [
    {
     "data": {
      "text/html": [
       "<div>\n",
       "<style scoped>\n",
       "    .dataframe tbody tr th:only-of-type {\n",
       "        vertical-align: middle;\n",
       "    }\n",
       "\n",
       "    .dataframe tbody tr th {\n",
       "        vertical-align: top;\n",
       "    }\n",
       "\n",
       "    .dataframe thead th {\n",
       "        text-align: right;\n",
       "    }\n",
       "</style>\n",
       "<table border=\"1\" class=\"dataframe\">\n",
       "  <thead>\n",
       "    <tr style=\"text-align: right;\">\n",
       "      <th></th>\n",
       "      <th>Hours_Work</th>\n",
       "      <th>Calorie_Burnage</th>\n",
       "    </tr>\n",
       "  </thead>\n",
       "  <tbody>\n",
       "    <tr>\n",
       "      <th>0</th>\n",
       "      <td>10</td>\n",
       "      <td>220</td>\n",
       "    </tr>\n",
       "    <tr>\n",
       "      <th>1</th>\n",
       "      <td>9</td>\n",
       "      <td>240</td>\n",
       "    </tr>\n",
       "    <tr>\n",
       "      <th>2</th>\n",
       "      <td>8</td>\n",
       "      <td>260</td>\n",
       "    </tr>\n",
       "    <tr>\n",
       "      <th>3</th>\n",
       "      <td>7</td>\n",
       "      <td>280</td>\n",
       "    </tr>\n",
       "    <tr>\n",
       "      <th>4</th>\n",
       "      <td>6</td>\n",
       "      <td>300</td>\n",
       "    </tr>\n",
       "  </tbody>\n",
       "</table>\n",
       "</div>"
      ],
      "text/plain": [
       "   Hours_Work  Calorie_Burnage\n",
       "0          10              220\n",
       "1           9              240\n",
       "2           8              260\n",
       "3           7              280\n",
       "4           6              300"
      ]
     },
     "execution_count": 25,
     "metadata": {},
     "output_type": "execute_result"
    }
   ],
   "source": [
    "# only for negative linear relationship analysis\n",
    "data_health_2 = {'Hours_Work':[10,9,8,7,6,5,4,3,2,1],\n",
    "                'Calorie_Burnage': [220,240,260,280,300,320,340,360,380,400]}\n",
    "df_health_2 = pd.DataFrame(data_health_2)\n",
    "df_health_2.head()"
   ]
  },
  {
   "cell_type": "code",
   "execution_count": 26,
   "metadata": {},
   "outputs": [],
   "source": [
    "# II. Inferential statistics\n",
    "# 1.1 Correlation between pairs of data - covariance matrix\n",
    "# The covariance is a statistical tool that is used to determine the relationship between the movements of two random variables.\n",
    "# Covariance gives you a positve number if the variables are positively related. You'll get a negative number if they are negatively related. A high covariance basically indicates there is a strong relationship between the variables."
   ]
  },
  {
   "cell_type": "code",
   "execution_count": 27,
   "metadata": {},
   "outputs": [
    {
     "data": {
      "text/html": [
       "<img src=\"/home/achmadadyatma/Documents/learncode/my-data-analyst_project/statistical_analysis/covariance-interpretation.jpg\"/>"
      ],
      "text/plain": [
       "<IPython.core.display.Image object>"
      ]
     },
     "execution_count": 27,
     "metadata": {},
     "output_type": "execute_result"
    }
   ],
   "source": [
    "#Covariance matrix interpretation\n",
    "Image(url=r'/home/achmadadyatma/Documents/learncode/my-data-analyst_project/statistical_analysis/covariance-interpretation.jpg')"
   ]
  },
  {
   "cell_type": "code",
   "execution_count": 28,
   "metadata": {},
   "outputs": [
    {
     "data": {
      "text/html": [
       "<div>\n",
       "<style scoped>\n",
       "    .dataframe tbody tr th:only-of-type {\n",
       "        vertical-align: middle;\n",
       "    }\n",
       "\n",
       "    .dataframe tbody tr th {\n",
       "        vertical-align: top;\n",
       "    }\n",
       "\n",
       "    .dataframe thead th {\n",
       "        text-align: right;\n",
       "    }\n",
       "</style>\n",
       "<table border=\"1\" class=\"dataframe\">\n",
       "  <thead>\n",
       "    <tr style=\"text-align: right;\">\n",
       "      <th></th>\n",
       "      <th>Duration</th>\n",
       "      <th>Average_Pulse</th>\n",
       "      <th>Max_Pulse</th>\n",
       "      <th>Calorie_Burnage</th>\n",
       "      <th>Hours_Work</th>\n",
       "      <th>Hours_Sleep</th>\n",
       "    </tr>\n",
       "  </thead>\n",
       "  <tbody>\n",
       "    <tr>\n",
       "      <th>Duration</th>\n",
       "      <td>1848.528743</td>\n",
       "      <td>-103.969931</td>\n",
       "      <td>0.631107</td>\n",
       "      <td>10470.396122</td>\n",
       "      <td>-19.405059</td>\n",
       "      <td>2.124801</td>\n",
       "    </tr>\n",
       "    <tr>\n",
       "      <th>Average_Pulse</th>\n",
       "      <td>-103.969931</td>\n",
       "      <td>213.892449</td>\n",
       "      <td>188.464288</td>\n",
       "      <td>70.491138</td>\n",
       "      <td>-15.809305</td>\n",
       "      <td>0.331137</td>\n",
       "    </tr>\n",
       "    <tr>\n",
       "      <th>Max_Pulse</th>\n",
       "      <td>0.631107</td>\n",
       "      <td>188.464288</td>\n",
       "      <td>269.090131</td>\n",
       "      <td>881.014694</td>\n",
       "      <td>-17.162349</td>\n",
       "      <td>1.029652</td>\n",
       "    </tr>\n",
       "    <tr>\n",
       "      <th>Calorie_Burnage</th>\n",
       "      <td>10470.396122</td>\n",
       "      <td>70.491138</td>\n",
       "      <td>881.014694</td>\n",
       "      <td>75200.505643</td>\n",
       "      <td>-150.572162</td>\n",
       "      <td>14.914451</td>\n",
       "    </tr>\n",
       "    <tr>\n",
       "      <th>Hours_Work</th>\n",
       "      <td>-19.405059</td>\n",
       "      <td>-15.809305</td>\n",
       "      <td>-17.162349</td>\n",
       "      <td>-150.572162</td>\n",
       "      <td>15.395990</td>\n",
       "      <td>-0.375937</td>\n",
       "    </tr>\n",
       "    <tr>\n",
       "      <th>Hours_Sleep</th>\n",
       "      <td>2.124801</td>\n",
       "      <td>0.331137</td>\n",
       "      <td>1.029652</td>\n",
       "      <td>14.914451</td>\n",
       "      <td>-0.375937</td>\n",
       "      <td>0.440809</td>\n",
       "    </tr>\n",
       "  </tbody>\n",
       "</table>\n",
       "</div>"
      ],
      "text/plain": [
       "                     Duration  Average_Pulse   Max_Pulse  Calorie_Burnage  \\\n",
       "Duration          1848.528743    -103.969931    0.631107     10470.396122   \n",
       "Average_Pulse     -103.969931     213.892449  188.464288        70.491138   \n",
       "Max_Pulse            0.631107     188.464288  269.090131       881.014694   \n",
       "Calorie_Burnage  10470.396122      70.491138  881.014694     75200.505643   \n",
       "Hours_Work         -19.405059     -15.809305  -17.162349      -150.572162   \n",
       "Hours_Sleep          2.124801       0.331137    1.029652        14.914451   \n",
       "\n",
       "                 Hours_Work  Hours_Sleep  \n",
       "Duration         -19.405059     2.124801  \n",
       "Average_Pulse    -15.809305     0.331137  \n",
       "Max_Pulse        -17.162349     1.029652  \n",
       "Calorie_Burnage -150.572162    14.914451  \n",
       "Hours_Work        15.395990    -0.375937  \n",
       "Hours_Sleep       -0.375937     0.440809  "
      ]
     },
     "execution_count": 28,
     "metadata": {},
     "output_type": "execute_result"
    }
   ],
   "source": [
    "df_health_1.cov()"
   ]
  },
  {
   "cell_type": "code",
   "execution_count": 29,
   "metadata": {},
   "outputs": [],
   "source": [
    "# II. Inferential statistics\n",
    "# 1.2 Correlation between pairs of data - correlation matrix\n",
    "# The correlation matrix is simply a table which displays the correlation coefficients for different variables.\n",
    "# The correlation coefficient values can fall between -1 and +1. \n",
    "# Weak positive correlation would be in the range 0.1 to 0.3, moderate positive correlation from 0.3 to 0.5, and strong positive correlation from 0.5 to 1.0\n",
    "# Weak negative correlation would be in the range -0.1 to -0.3, moderate negative correlation from -0.3 to -0.5, and strong negative correlation from -0.5 to -1.0"
   ]
  },
  {
   "cell_type": "code",
   "execution_count": 30,
   "metadata": {},
   "outputs": [
    {
     "data": {
      "text/html": [
       "<img src=\"/home/achmadadyatma/Documents/learncode/my-data-analyst_project/statistical_analysis/correlation-coefficient-interpretation.png\"/>"
      ],
      "text/plain": [
       "<IPython.core.display.Image object>"
      ]
     },
     "execution_count": 30,
     "metadata": {},
     "output_type": "execute_result"
    }
   ],
   "source": [
    "#Correlation matrix interpretation\n",
    "Image(url=r'/home/achmadadyatma/Documents/learncode/my-data-analyst_project/statistical_analysis/correlation-coefficient-interpretation.png')"
   ]
  },
  {
   "cell_type": "code",
   "execution_count": 31,
   "metadata": {},
   "outputs": [
    {
     "data": {
      "text/html": [
       "<div>\n",
       "<style scoped>\n",
       "    .dataframe tbody tr th:only-of-type {\n",
       "        vertical-align: middle;\n",
       "    }\n",
       "\n",
       "    .dataframe tbody tr th {\n",
       "        vertical-align: top;\n",
       "    }\n",
       "\n",
       "    .dataframe thead th {\n",
       "        text-align: right;\n",
       "    }\n",
       "</style>\n",
       "<table border=\"1\" class=\"dataframe\">\n",
       "  <thead>\n",
       "    <tr style=\"text-align: right;\">\n",
       "      <th></th>\n",
       "      <th>Duration</th>\n",
       "      <th>Average_Pulse</th>\n",
       "      <th>Max_Pulse</th>\n",
       "      <th>Calorie_Burnage</th>\n",
       "      <th>Hours_Work</th>\n",
       "      <th>Hours_Sleep</th>\n",
       "    </tr>\n",
       "  </thead>\n",
       "  <tbody>\n",
       "    <tr>\n",
       "      <th>Duration</th>\n",
       "      <td>1.000000</td>\n",
       "      <td>-0.165347</td>\n",
       "      <td>0.000895</td>\n",
       "      <td>0.888055</td>\n",
       "      <td>-0.115027</td>\n",
       "      <td>0.074435</td>\n",
       "    </tr>\n",
       "    <tr>\n",
       "      <th>Average_Pulse</th>\n",
       "      <td>-0.165347</td>\n",
       "      <td>1.000000</td>\n",
       "      <td>0.785566</td>\n",
       "      <td>0.017576</td>\n",
       "      <td>-0.275493</td>\n",
       "      <td>0.034102</td>\n",
       "    </tr>\n",
       "    <tr>\n",
       "      <th>Max_Pulse</th>\n",
       "      <td>0.000895</td>\n",
       "      <td>0.785566</td>\n",
       "      <td>1.000000</td>\n",
       "      <td>0.195850</td>\n",
       "      <td>-0.266639</td>\n",
       "      <td>0.094540</td>\n",
       "    </tr>\n",
       "    <tr>\n",
       "      <th>Calorie_Burnage</th>\n",
       "      <td>0.888055</td>\n",
       "      <td>0.017576</td>\n",
       "      <td>0.195850</td>\n",
       "      <td>1.000000</td>\n",
       "      <td>-0.139936</td>\n",
       "      <td>0.081917</td>\n",
       "    </tr>\n",
       "    <tr>\n",
       "      <th>Hours_Work</th>\n",
       "      <td>-0.115027</td>\n",
       "      <td>-0.275493</td>\n",
       "      <td>-0.266639</td>\n",
       "      <td>-0.139936</td>\n",
       "      <td>1.000000</td>\n",
       "      <td>-0.144307</td>\n",
       "    </tr>\n",
       "    <tr>\n",
       "      <th>Hours_Sleep</th>\n",
       "      <td>0.074435</td>\n",
       "      <td>0.034102</td>\n",
       "      <td>0.094540</td>\n",
       "      <td>0.081917</td>\n",
       "      <td>-0.144307</td>\n",
       "      <td>1.000000</td>\n",
       "    </tr>\n",
       "  </tbody>\n",
       "</table>\n",
       "</div>"
      ],
      "text/plain": [
       "                 Duration  Average_Pulse  Max_Pulse  Calorie_Burnage  \\\n",
       "Duration         1.000000      -0.165347   0.000895         0.888055   \n",
       "Average_Pulse   -0.165347       1.000000   0.785566         0.017576   \n",
       "Max_Pulse        0.000895       0.785566   1.000000         0.195850   \n",
       "Calorie_Burnage  0.888055       0.017576   0.195850         1.000000   \n",
       "Hours_Work      -0.115027      -0.275493  -0.266639        -0.139936   \n",
       "Hours_Sleep      0.074435       0.034102   0.094540         0.081917   \n",
       "\n",
       "                 Hours_Work  Hours_Sleep  \n",
       "Duration          -0.115027     0.074435  \n",
       "Average_Pulse     -0.275493     0.034102  \n",
       "Max_Pulse         -0.266639     0.094540  \n",
       "Calorie_Burnage   -0.139936     0.081917  \n",
       "Hours_Work         1.000000    -0.144307  \n",
       "Hours_Sleep       -0.144307     1.000000  "
      ]
     },
     "execution_count": 31,
     "metadata": {},
     "output_type": "execute_result"
    }
   ],
   "source": [
    "df_health_1.corr()"
   ]
  },
  {
   "cell_type": "code",
   "execution_count": 32,
   "metadata": {},
   "outputs": [
    {
     "data": {
      "image/png": "[encoded data removed]",
      "text/plain": [
       "<Figure size 640x480 with 2 Axes>"
      ]
     },
     "metadata": {},
     "output_type": "display_data"
    }
   ],
   "source": [
    "# II. Inferential statistics\n",
    "# 1.3 Heatmap helps you visualize density. It is a two - dimensional representation of data in which values are represented by colors. It can be used to visualize correlation matrix of dataset\n",
    "\n",
    "corr_df_health = df_health_1.corr().round(2)\n",
    "\n",
    "axis_corr = sns.heatmap(\n",
    "    corr_df_health,\n",
    "    vmin=-1,vmax=1, center=0,\n",
    "    cmap=\"mako\",\n",
    "    square=True\n",
    ")\n",
    "\n",
    "plt.xticks(rotation=45)\n",
    "plt.show()"
   ]
  },
  {
   "cell_type": "code",
   "execution_count": 33,
   "metadata": {},
   "outputs": [
    {
     "data": {
      "image/png": "[encoded data removed]",
      "text/plain": [
       "<Figure size 640x480 with 1 Axes>"
      ]
     },
     "metadata": {},
     "output_type": "display_data"
    }
   ],
   "source": [
    "# # II. Inferential statistics\n",
    "# 1.4 Correlation between pairs of data - correlation coefficient (CC)\n",
    "# Correlation coefficient measures the relationship between two variables. The correlation coefficient can never be less than -1 or higher than 1\n",
    "# 1.4.1 Perfect linear relationship (CC = 1)\n",
    "df_health_1.plot(x ='Duration', y='Calorie_Burnage', kind='scatter')\n",
    "plt.show()"
   ]
  },
  {
   "cell_type": "code",
   "execution_count": 34,
   "metadata": {},
   "outputs": [
    {
     "data": {
      "image/png": "[encoded data removed]",
      "text/plain": [
       "<Figure size 640x480 with 1 Axes>"
      ]
     },
     "metadata": {},
     "output_type": "display_data"
    }
   ],
   "source": [
    "# 1.4.2 No linear relationship (CC = 0)\n",
    "df_health_1.plot(x = 'Duration', y='Max_Pulse', kind='scatter')\n",
    "plt.show()"
   ]
  },
  {
   "cell_type": "code",
   "execution_count": 35,
   "metadata": {},
   "outputs": [
    {
     "data": {
      "image/png": "[encoded data removed]",
      "text/plain": [
       "<Figure size 640x480 with 1 Axes>"
      ]
     },
     "metadata": {},
     "output_type": "display_data"
    }
   ],
   "source": [
    "# 1.4.3 Perfect negative linear relationship (CC = -1)\n",
    "df_health_2.plot(x = 'Hours_Work', y='Calorie_Burnage', kind='scatter')\n",
    "plt.show()"
   ]
  },
  {
   "cell_type": "code",
   "execution_count": 36,
   "metadata": {},
   "outputs": [
    {
     "data": {
      "text/html": [
       "<div>\n",
       "<style scoped>\n",
       "    .dataframe tbody tr th:only-of-type {\n",
       "        vertical-align: middle;\n",
       "    }\n",
       "\n",
       "    .dataframe tbody tr th {\n",
       "        vertical-align: top;\n",
       "    }\n",
       "\n",
       "    .dataframe thead th {\n",
       "        text-align: right;\n",
       "    }\n",
       "</style>\n",
       "<table border=\"1\" class=\"dataframe\">\n",
       "  <thead>\n",
       "    <tr style=\"text-align: right;\">\n",
       "      <th></th>\n",
       "      <th>Duration</th>\n",
       "      <th>Average_Pulse</th>\n",
       "      <th>Max_Pulse</th>\n",
       "      <th>Calorie_Burnage</th>\n",
       "      <th>Hours_Work</th>\n",
       "      <th>Hours_Sleep</th>\n",
       "    </tr>\n",
       "  </thead>\n",
       "  <tbody>\n",
       "    <tr>\n",
       "      <th>0</th>\n",
       "      <td>60</td>\n",
       "      <td>110</td>\n",
       "      <td>130</td>\n",
       "      <td>409</td>\n",
       "      <td>0.0</td>\n",
       "      <td>8.0</td>\n",
       "    </tr>\n",
       "    <tr>\n",
       "      <th>1</th>\n",
       "      <td>60</td>\n",
       "      <td>117</td>\n",
       "      <td>145</td>\n",
       "      <td>479</td>\n",
       "      <td>0.0</td>\n",
       "      <td>8.0</td>\n",
       "    </tr>\n",
       "    <tr>\n",
       "      <th>2</th>\n",
       "      <td>60</td>\n",
       "      <td>103</td>\n",
       "      <td>135</td>\n",
       "      <td>340</td>\n",
       "      <td>8.0</td>\n",
       "      <td>7.5</td>\n",
       "    </tr>\n",
       "    <tr>\n",
       "      <th>3</th>\n",
       "      <td>45</td>\n",
       "      <td>109</td>\n",
       "      <td>175</td>\n",
       "      <td>282</td>\n",
       "      <td>8.0</td>\n",
       "      <td>8.0</td>\n",
       "    </tr>\n",
       "    <tr>\n",
       "      <th>4</th>\n",
       "      <td>45</td>\n",
       "      <td>117</td>\n",
       "      <td>148</td>\n",
       "      <td>406</td>\n",
       "      <td>0.0</td>\n",
       "      <td>6.5</td>\n",
       "    </tr>\n",
       "  </tbody>\n",
       "</table>\n",
       "</div>"
      ],
      "text/plain": [
       "   Duration  Average_Pulse  Max_Pulse  Calorie_Burnage  Hours_Work  \\\n",
       "0        60            110        130              409         0.0   \n",
       "1        60            117        145              479         0.0   \n",
       "2        60            103        135              340         8.0   \n",
       "3        45            109        175              282         8.0   \n",
       "4        45            117        148              406         0.0   \n",
       "\n",
       "   Hours_Sleep  \n",
       "0          8.0  \n",
       "1          8.0  \n",
       "2          7.5  \n",
       "3          8.0  \n",
       "4          6.5  "
      ]
     },
     "execution_count": 36,
     "metadata": {},
     "output_type": "execute_result"
    }
   ],
   "source": [
    "# II. Inferential statistics\n",
    "# 2.1 Simple linear regression\n",
    "# It's a form of mathematical regression analysis used to determnine the line of best fit for a set of data, providing a visual demonstration of the relationship between the data points. Each point of data represents the relationship between the data points. Each point of data represents the relationship between a known independent variable and an unknown dependent variable\n",
    "df_health_1.head()"
   ]
  },
  {
   "cell_type": "markdown",
   "metadata": {},
   "source": [
    "Perform Simple Linear Regression analysis\n",
    "1. Data preparation (extract and rename data from existing Pandas DataFrame)\n",
    "2. Plot the given data points\n",
    "3. Add needed columns (x-x̄), (y-ȳ), (x-x̄)*(y-ȳ), (x-x̄)^2, (y-ȳ)^2\n",
    "4. Sum up (x-x̄)*(y-ȳ), (x-x̄)^2, (y-ȳ)^2 columns \n",
    "5. Calculate Pearson's correlation coefficient (r)\n",
    "6. Calculate standard deviation of X and Y variables\n",
    "7. Calculate slope (b)\n",
    "8. Calculate intercept (a)\n",
    "9. Plot the given data points and fit the regression line\n",
    "10. Predict value"
   ]
  },
  {
   "cell_type": "code",
   "execution_count": 37,
   "metadata": {},
   "outputs": [
    {
     "data": {
      "text/html": [
       "<div>\n",
       "<style scoped>\n",
       "    .dataframe tbody tr th:only-of-type {\n",
       "        vertical-align: middle;\n",
       "    }\n",
       "\n",
       "    .dataframe tbody tr th {\n",
       "        vertical-align: top;\n",
       "    }\n",
       "\n",
       "    .dataframe thead th {\n",
       "        text-align: right;\n",
       "    }\n",
       "</style>\n",
       "<table border=\"1\" class=\"dataframe\">\n",
       "  <thead>\n",
       "    <tr style=\"text-align: right;\">\n",
       "      <th></th>\n",
       "      <th>Duration (x)</th>\n",
       "      <th>Calorie_burnage (y)</th>\n",
       "    </tr>\n",
       "  </thead>\n",
       "  <tbody>\n",
       "    <tr>\n",
       "      <th>0</th>\n",
       "      <td>60</td>\n",
       "      <td>409</td>\n",
       "    </tr>\n",
       "    <tr>\n",
       "      <th>1</th>\n",
       "      <td>60</td>\n",
       "      <td>479</td>\n",
       "    </tr>\n",
       "    <tr>\n",
       "      <th>2</th>\n",
       "      <td>60</td>\n",
       "      <td>340</td>\n",
       "    </tr>\n",
       "    <tr>\n",
       "      <th>3</th>\n",
       "      <td>45</td>\n",
       "      <td>282</td>\n",
       "    </tr>\n",
       "    <tr>\n",
       "      <th>4</th>\n",
       "      <td>45</td>\n",
       "      <td>406</td>\n",
       "    </tr>\n",
       "  </tbody>\n",
       "</table>\n",
       "</div>"
      ],
      "text/plain": [
       "   Duration (x)  Calorie_burnage (y)\n",
       "0            60                  409\n",
       "1            60                  479\n",
       "2            60                  340\n",
       "3            45                  282\n",
       "4            45                  406"
      ]
     },
     "execution_count": 37,
     "metadata": {},
     "output_type": "execute_result"
    }
   ],
   "source": [
    "# We will analyze the correlation between 'Duration' and 'Calorie_Burnage' using least square method\n",
    "# Duration as independent variable (cause) meanwhile Calorie_Burnage as dependent variable (effect)\n",
    "# Independent variable belongs on the x-axis (horizontal line) of the graph and the dependent variable belongs on the y-axis (vertical line)\n",
    "\n",
    "# extract data from Pandas DataFrame\n",
    "df_sl_reg = df_health_1[['Duration', 'Calorie_Burnage']]\n",
    "\n",
    "# rename existing names\n",
    "df_sl_reg.rename(columns = {'Duration':'Duration (x)', 'Calorie_Burnage':'Calorie_burnage (y)'}, inplace = True)\n",
    "\n",
    "df_sl_reg.head()"
   ]
  },
  {
   "cell_type": "code",
   "execution_count": 38,
   "metadata": {},
   "outputs": [
    {
     "data": {
      "text/plain": [
       "Text(0, 0.5, 'Calorie Burnage (Y)')"
      ]
     },
     "execution_count": 38,
     "metadata": {},
     "output_type": "execute_result"
    },
    {
     "data": {
      "image/png": "[encoded data removed]",
      "text/plain": [
       "<Figure size 640x480 with 1 Axes>"
      ]
     },
     "metadata": {},
     "output_type": "display_data"
    }
   ],
   "source": [
    "# Plot the given data points\n",
    "x = df_sl_reg['Duration (x)']\n",
    "y = df_sl_reg['Calorie_burnage (y)']\n",
    "\n",
    "plt.scatter(x, y, color='blue')\n",
    "plt.xlabel('Duration (X)')\n",
    "plt.ylabel('Calorie Burnage (Y)')"
   ]
  },
  {
   "cell_type": "code",
   "execution_count": 39,
   "metadata": {},
   "outputs": [
    {
     "name": "stdout",
     "output_type": "stream",
     "text": [
      "Σ(x-x̄)*(y-ȳ): 1696204.171779141\n",
      "Σ(x-x̄)^2: 299461.65644171776\n",
      "Σ(y-ȳ)^2: 12182481.914110431\n",
      "count: Duration (x)    163\n",
      "dtype: int64\n"
     ]
    },
    {
     "data": {
      "text/html": [
       "<div>\n",
       "<style scoped>\n",
       "    .dataframe tbody tr th:only-of-type {\n",
       "        vertical-align: middle;\n",
       "    }\n",
       "\n",
       "    .dataframe tbody tr th {\n",
       "        vertical-align: top;\n",
       "    }\n",
       "\n",
       "    .dataframe thead th {\n",
       "        text-align: right;\n",
       "    }\n",
       "</style>\n",
       "<table border=\"1\" class=\"dataframe\">\n",
       "  <thead>\n",
       "    <tr style=\"text-align: right;\">\n",
       "      <th></th>\n",
       "      <th>Duration (x)</th>\n",
       "      <th>Calorie_burnage (y)</th>\n",
       "      <th>(x-x̄)</th>\n",
       "      <th>(y-ȳ)</th>\n",
       "      <th>(x-x̄)*(y-ȳ)</th>\n",
       "      <th>(x-x̄)^2</th>\n",
       "      <th>(y-ȳ)^2</th>\n",
       "    </tr>\n",
       "  </thead>\n",
       "  <tbody>\n",
       "    <tr>\n",
       "      <th>0</th>\n",
       "      <td>60</td>\n",
       "      <td>409</td>\n",
       "      <td>-4.263804</td>\n",
       "      <td>26.631902</td>\n",
       "      <td>-113.553201</td>\n",
       "      <td>18.180022</td>\n",
       "      <td>709.258196</td>\n",
       "    </tr>\n",
       "    <tr>\n",
       "      <th>1</th>\n",
       "      <td>60</td>\n",
       "      <td>479</td>\n",
       "      <td>-4.263804</td>\n",
       "      <td>96.631902</td>\n",
       "      <td>-412.019459</td>\n",
       "      <td>18.180022</td>\n",
       "      <td>9337.724453</td>\n",
       "    </tr>\n",
       "    <tr>\n",
       "      <th>2</th>\n",
       "      <td>60</td>\n",
       "      <td>340</td>\n",
       "      <td>-4.263804</td>\n",
       "      <td>-42.368098</td>\n",
       "      <td>180.649253</td>\n",
       "      <td>18.180022</td>\n",
       "      <td>1795.055742</td>\n",
       "    </tr>\n",
       "    <tr>\n",
       "      <th>3</th>\n",
       "      <td>45</td>\n",
       "      <td>282</td>\n",
       "      <td>-19.263804</td>\n",
       "      <td>-100.368098</td>\n",
       "      <td>1933.471339</td>\n",
       "      <td>371.094132</td>\n",
       "      <td>10073.755128</td>\n",
       "    </tr>\n",
       "    <tr>\n",
       "      <th>4</th>\n",
       "      <td>45</td>\n",
       "      <td>406</td>\n",
       "      <td>-19.263804</td>\n",
       "      <td>23.631902</td>\n",
       "      <td>-455.240318</td>\n",
       "      <td>371.094132</td>\n",
       "      <td>558.466785</td>\n",
       "    </tr>\n",
       "  </tbody>\n",
       "</table>\n",
       "</div>"
      ],
      "text/plain": [
       "   Duration (x)  Calorie_burnage (y)     (x-x̄)      (y-ȳ)  (x-x̄)*(y-ȳ)  \\\n",
       "0            60                  409  -4.263804   26.631902    -113.553201   \n",
       "1            60                  479  -4.263804   96.631902    -412.019459   \n",
       "2            60                  340  -4.263804  -42.368098     180.649253   \n",
       "3            45                  282 -19.263804 -100.368098    1933.471339   \n",
       "4            45                  406 -19.263804   23.631902    -455.240318   \n",
       "\n",
       "     (x-x̄)^2      (y-ȳ)^2  \n",
       "0   18.180022    709.258196  \n",
       "1   18.180022   9337.724453  \n",
       "2   18.180022   1795.055742  \n",
       "3  371.094132  10073.755128  \n",
       "4  371.094132    558.466785  "
      ]
     },
     "execution_count": 39,
     "metadata": {},
     "output_type": "execute_result"
    }
   ],
   "source": [
    "# add needed columns (x-x̄), (y-ȳ), (x-x̄)*(y-ȳ), (x-x̄)^2, (y-ȳ)^2\n",
    "# (x-x̄)\n",
    "df_sl_reg['(x-x̄)'] = df_sl_reg['Duration (x)'] - df_sl_reg['Duration (x)'].mean(axis=0)\n",
    "\n",
    "# (y-ȳ)\n",
    "df_sl_reg['(y-ȳ)'] = df_sl_reg['Calorie_burnage (y)'] - df_sl_reg['Calorie_burnage (y)'].mean(axis=0)\n",
    "\n",
    "# (x-x̄)*(y-ȳ)\n",
    "df_sl_reg['(x-x̄)*(y-ȳ)'] = df_sl_reg['(x-x̄)'] * df_sl_reg['(y-ȳ)']\n",
    "\n",
    "# (x-x̄)^2\n",
    "df_sl_reg['(x-x̄)^2'] = df_sl_reg['(x-x̄)']**2\n",
    "\n",
    "# (y-ȳ)^2\n",
    "df_sl_reg['(y-ȳ)^2'] = df_sl_reg['(y-ȳ)']**2\n",
    "\n",
    "# sum up (x-x̄)*(y-ȳ), (x-x̄)^2, (y-ȳ)^2 columns \n",
    "print('Σ(x-x̄)*(y-ȳ):',df_sl_reg['(x-x̄)*(y-ȳ)'].sum(axis=0))\n",
    "print('Σ(x-x̄)^2:',df_sl_reg['(x-x̄)^2'].sum(axis=0))\n",
    "print('Σ(y-ȳ)^2:',df_sl_reg['(y-ȳ)^2'].sum(axis=0))\n",
    "print('count:',df_sl_reg[['Duration (x)']].count(axis=0))\n",
    "\n",
    "df_sl_reg.head()"
   ]
  },
  {
   "cell_type": "code",
   "execution_count": 40,
   "metadata": {},
   "outputs": [
    {
     "name": "stdout",
     "output_type": "stream",
     "text": [
      "Pearson's Correlation Coefficient formula :\n"
     ]
    },
    {
     "data": {
      "text/html": [
       "<img src=\"/home/achmadadyatma/Documents/learncode/my-data-analyst_project/statistical_analysis/Pearsons-correlation-coefficient_formula.png\"/>"
      ],
      "text/plain": [
       "<IPython.core.display.Image object>"
      ]
     },
     "execution_count": 40,
     "metadata": {},
     "output_type": "execute_result"
    }
   ],
   "source": [
    "print('Pearson\\'s Correlation Coefficient formula :')\n",
    "Image(url=r'/home/achmadadyatma/Documents/learncode/my-data-analyst_project/statistical_analysis/Pearsons-correlation-coefficient_formula.png')"
   ]
  },
  {
   "cell_type": "code",
   "execution_count": 41,
   "metadata": {},
   "outputs": [
    {
     "name": "stdout",
     "output_type": "stream",
     "text": [
      "0.8880545180090471\n"
     ]
    }
   ],
   "source": [
    "# Calculate Pearson's correlation coefficient (r)\n",
    "\n",
    "r = 1696204.171779141 / math.sqrt(299461.65644171776 * 12182481.914110431)\n",
    "\n",
    "print(r)"
   ]
  },
  {
   "cell_type": "code",
   "execution_count": 42,
   "metadata": {},
   "outputs": [
    {
     "data": {
      "text/html": [
       "<img src=\"/home/achmadadyatma/Documents/learncode/my-data-analyst_project/statistical_analysis/standard-deviation_formula.png\"/>"
      ],
      "text/plain": [
       "<IPython.core.display.Image object>"
      ]
     },
     "execution_count": 42,
     "metadata": {},
     "output_type": "execute_result"
    }
   ],
   "source": [
    "Image(url=r'/home/achmadadyatma/Documents/learncode/my-data-analyst_project/statistical_analysis/standard-deviation_formula.png')"
   ]
  },
  {
   "cell_type": "code",
   "execution_count": 43,
   "metadata": {},
   "outputs": [
    {
     "name": "stdout",
     "output_type": "stream",
     "text": [
      "42.99451992367624\n",
      "274.22710595901526\n"
     ]
    }
   ],
   "source": [
    "# Calculate standard deviation of X and Y variables\n",
    "\n",
    "Sx = math.sqrt(299461.65644171776 / (163-1))\n",
    "Sy = math.sqrt(12182481.914110431 / (163-1))\n",
    "\n",
    "print(Sx)\n",
    "print(Sy)"
   ]
  },
  {
   "cell_type": "code",
   "execution_count": 44,
   "metadata": {},
   "outputs": [
    {
     "data": {
      "text/html": [
       "<img src=\"/home/achmadadyatma/Documents/learncode/my-data-analyst_project/statistical_analysis/slope_formula.png\"/>"
      ],
      "text/plain": [
       "<IPython.core.display.Image object>"
      ]
     },
     "execution_count": 44,
     "metadata": {},
     "output_type": "execute_result"
    }
   ],
   "source": [
    "Image(url=r'/home/achmadadyatma/Documents/learncode/my-data-analyst_project/statistical_analysis/slope_formula.png')"
   ]
  },
  {
   "cell_type": "code",
   "execution_count": 45,
   "metadata": {},
   "outputs": [
    {
     "name": "stdout",
     "output_type": "stream",
     "text": [
      "5.66417815200078\n"
     ]
    }
   ],
   "source": [
    "# Calculate slope (b)\n",
    "b = r * (Sy / Sx)\n",
    "\n",
    "print(b)"
   ]
  },
  {
   "cell_type": "code",
   "execution_count": 46,
   "metadata": {},
   "outputs": [
    {
     "data": {
      "text/html": [
       "<img src=\"/home/achmadadyatma/Documents/learncode/my-data-analyst_project/statistical_analysis/intercept_formula.png\"/>"
      ],
      "text/plain": [
       "<IPython.core.display.Image object>"
      ]
     },
     "execution_count": 46,
     "metadata": {},
     "output_type": "execute_result"
    }
   ],
   "source": [
    "Image(url=r'/home/achmadadyatma/Documents/learncode/my-data-analyst_project/statistical_analysis/intercept_formula.png')"
   ]
  },
  {
   "cell_type": "code",
   "execution_count": 47,
   "metadata": {},
   "outputs": [
    {
     "name": "stdout",
     "output_type": "stream",
     "text": [
      "18.36646538522598\n",
      "result of linear regression formula:\n",
      " y = 18.3 + 5.66x\n"
     ]
    }
   ],
   "source": [
    "# Calculate intercept (a)\n",
    "a = df_sl_reg['Calorie_burnage (y)'].mean(axis=0) - (b * df_sl_reg['Duration (x)'].mean(axis=0))\n",
    "\n",
    "print(a)\n",
    "print('result of linear regression formula:\\n y = 18.3 + 5.66x')"
   ]
  },
  {
   "cell_type": "code",
   "execution_count": 48,
   "metadata": {},
   "outputs": [
    {
     "data": {
      "text/plain": [
       "Text(0, 0.5, 'Calorie Burnage (Y)')"
      ]
     },
     "execution_count": 48,
     "metadata": {},
     "output_type": "execute_result"
    },
    {
     "data": {
      "image/png": "[encoded data removed]",
      "text/plain": [
       "<Figure size 640x480 with 1 Axes>"
      ]
     },
     "metadata": {},
     "output_type": "display_data"
    }
   ],
   "source": [
    "# Plot the given data points and fit the regression line\n",
    "x = df_sl_reg['Duration (x)']\n",
    "y = df_sl_reg['Calorie_burnage (y)']\n",
    "y_pred = b * x + a\n",
    "\n",
    "plt.scatter(x, y, color='blue')\n",
    "plt.plot(x, y_pred, color='red')\n",
    "plt.xlabel('Duration (X)')\n",
    "plt.ylabel('Calorie Burnage (Y)')"
   ]
  },
  {
   "cell_type": "code",
   "execution_count": 49,
   "metadata": {},
   "outputs": [
    {
     "name": "stdout",
     "output_type": "stream",
     "text": [
      "Predicted calorie burnage value when duration 200 : 1150.3\n",
      "Predicted calorie burnage value when duration 250 : 1433.3\n",
      "Predicted calorie burnage value when duration 50 : 301.3\n"
     ]
    }
   ],
   "source": [
    "# Predict value using y = 18.3 + 5.66x formula\n",
    "# we will predict calorie burnage when certain condition of duration\n",
    "\n",
    "val1 = 200\n",
    "val2 = 250\n",
    "val3 = 50\n",
    "\n",
    "print('Predicted calorie burnage value when duration 200 :', 18.3 + (5.66*(val1)))\n",
    "print('Predicted calorie burnage value when duration 250 :', 18.3 + (5.66*(val2)))\n",
    "print('Predicted calorie burnage value when duration 50 :', 18.3 + (5.66*(val3)))"
   ]
  }
 ],
 "metadata": {
  "kernelspec": {
   "display_name": "Python 3.10.4 64-bit",
   "language": "python",
   "name": "python3"
  },
  "language_info": {
   "codemirror_mode": {
    "name": "ipython",
    "version": 3
   },
   "file_extension": ".py",
   "mimetype": "text/x-python",
   "name": "python",
   "nbconvert_exporter": "python",
   "pygments_lexer": "ipython3",
   "version": "3.10.4"
  },
  "orig_nbformat": 4,
  "vscode": {
   "interpreter": {
    "hash": "916dbcbb3f70747c44a77c7bcd40155683ae19c65e1c03b4aa3499c5328201f1"
   }
  }
 },
 "nbformat": 4,
 "nbformat_minor": 2
}
